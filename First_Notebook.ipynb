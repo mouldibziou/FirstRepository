{
 "cells": [
  {
   "cell_type": "markdown",
   "id": "01c76c8d-df8b-471a-862e-9b445db8c72c",
   "metadata": {},
   "source": [
    "# Data Science Tools and Ecosystem"
   ]
  },
  {
   "cell_type": "markdown",
   "id": "973991c4-c51b-4309-b232-00e24079b2c3",
   "metadata": {},
   "source": [
    "In this notebook, Data Science Tools and Ecosystem are summarized."
   ]
  },
  {
   "cell_type": "markdown",
   "id": "8c13082a-5736-4563-9541-d61ce9acad85",
   "metadata": {},
   "source": [
    "Some of the popular languages that Data Scientists use are:"
   ]
  },
  {
   "cell_type": "markdown",
   "id": "3a7fc520-116e-4e7f-8ba5-d7872b3fdd4f",
   "metadata": {},
   "source": [
    "1. R\n",
    "2. Python\n",
    "3. SQL"
   ]
  },
  {
   "cell_type": "markdown",
   "id": "13a19c70-2636-4d09-bed6-db03ce0f27db",
   "metadata": {},
   "source": [
    "Some of the commonly used libraries used by Data Scientists include:\n",
    "1. Matplotlib\n",
    "2. Pandas\n",
    "3. GGplot"
   ]
  },
  {
   "cell_type": "markdown",
   "id": "c065e22f-d69e-4351-bd2e-b9e765cce9fc",
   "metadata": {},
   "source": [
    "|Data Science Tools|\n",
    "|-----|\n",
    "|Apache Spark|\n",
    "|Jupyter Notebook|\n",
    "|Apache Hadoop|"
   ]
  },
  {
   "cell_type": "markdown",
   "id": "4b5e12af-9109-4fe4-b231-af3facb9aa58",
   "metadata": {},
   "source": [
    "### Below are a few examples of evaluating arithmetic expressions in Python"
   ]
  },
  {
   "cell_type": "markdown",
   "id": "070ade4f-737d-4581-bbd6-a07c21f38f3d",
   "metadata": {},
   "source": [
    "This a simple arithmetic expression to multiply then add stingers"
   ]
  },
  {
   "cell_type": "code",
   "execution_count": 2,
   "id": "742478b0-bfd4-4be1-8961-0f341b0f9bd9",
   "metadata": {},
   "outputs": [
    {
     "data": {
      "text/plain": [
       "17"
      ]
     },
     "execution_count": 2,
     "metadata": {},
     "output_type": "execute_result"
    }
   ],
   "source": [
    "(3*4) + 5"
   ]
  },
  {
   "cell_type": "markdown",
   "id": "29ced241-ca38-4d45-a8b0-52e87c9ad183",
   "metadata": {},
   "source": [
    "This will convert 200 minutes to hours by dividing by 60"
   ]
  },
  {
   "cell_type": "code",
   "execution_count": 3,
   "id": "921ee78e-3d4a-4822-aafa-9d952b0e4e41",
   "metadata": {},
   "outputs": [
    {
     "data": {
      "text/plain": [
       "3.3333333333333335"
      ]
     },
     "execution_count": 3,
     "metadata": {},
     "output_type": "execute_result"
    }
   ],
   "source": [
    "200/60"
   ]
  },
  {
   "cell_type": "markdown",
   "id": "574c220d-e7f1-47a1-b821-76618fd6d06f",
   "metadata": {},
   "source": [
    "**Objectives:**"
   ]
  },
  {
   "cell_type": "markdown",
   "id": "e5ed2cba-8c60-40ab-a219-e05f9208c48f",
   "metadata": {},
   "source": [
    "- List popular languages for Data Science\n",
    "- Creating my first jupyter Notebook\n",
    "- Practicing what I learned in the previous courses"
   ]
  },
  {
   "cell_type": "markdown",
   "id": "098c3c5f-feab-46a5-9358-3ff270eb6c08",
   "metadata": {},
   "source": [
    "## Author"
   ]
  },
  {
   "cell_type": "markdown",
   "id": "d975fbcc-28ba-4d78-b358-9bf80d442572",
   "metadata": {},
   "source": [
    "Mohamed Mouldi BZIOU"
   ]
  },
  {
   "cell_type": "code",
   "execution_count": null,
   "id": "10cade37-9d04-4af6-8f7f-7114388332d4",
   "metadata": {},
   "outputs": [],
   "source": []
  }
 ],
 "metadata": {
  "kernelspec": {
   "display_name": "Python 3 (ipykernel)",
   "language": "python",
   "name": "python3"
  },
  "language_info": {
   "codemirror_mode": {
    "name": "ipython",
    "version": 3
   },
   "file_extension": ".py",
   "mimetype": "text/x-python",
   "name": "python",
   "nbconvert_exporter": "python",
   "pygments_lexer": "ipython3",
   "version": "3.12.8"
  }
 },
 "nbformat": 4,
 "nbformat_minor": 5
}
